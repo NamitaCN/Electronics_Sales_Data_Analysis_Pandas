{
 "cells": [
  {
   "cell_type": "code",
   "execution_count": 1,
   "id": "b33fbafd-6cd6-4951-9d49-bc7cbabd0ba4",
   "metadata": {},
   "outputs": [],
   "source": [
    "import pandas as pd\n",
    "import os\n",
    "import matplotlib.pyplot as plt"
   ]
  },
  {
   "cell_type": "markdown",
   "id": "04a94ba5-7f51-492b-ba0d-9562ba09696e",
   "metadata": {},
   "source": [
    "### Merging 12 months sales data into a single file "
   ]
  },
  {
   "cell_type": "code",
   "execution_count": 2,
   "id": "1343c22f-aefd-45b7-b968-ab2396fc7210",
   "metadata": {},
   "outputs": [],
   "source": [
    "df=pd.read_csv(\"./Sales_Data/Sales_April_2019.csv\")\n",
    "\n",
    "files = [file for file in os.listdir('./Sales_Data')]\n",
    "\n",
    "all_data=pd.DataFrame()\n",
    "\n",
    "for file in files:\n",
    "    df=pd.read_csv(\"./Sales_Data/\"+file)\n",
    "    all_data= pd.concat([all_data,df])\n",
    "\n",
    "all_data.to_csv('all_data.csv', index=False)"
   ]
  },
  {
   "cell_type": "code",
   "execution_count": 6,
   "id": "29f0f901-924e-4714-862c-9012b877a883",
   "metadata": {},
   "outputs": [
    {
     "data": {
      "text/html": [
       "<div>\n",
       "<style scoped>\n",
       "    .dataframe tbody tr th:only-of-type {\n",
       "        vertical-align: middle;\n",
       "    }\n",
       "\n",
       "    .dataframe tbody tr th {\n",
       "        vertical-align: top;\n",
       "    }\n",
       "\n",
       "    .dataframe thead th {\n",
       "        text-align: right;\n",
       "    }\n",
       "</style>\n",
       "<table border=\"1\" class=\"dataframe\">\n",
       "  <thead>\n",
       "    <tr style=\"text-align: right;\">\n",
       "      <th></th>\n",
       "      <th>Order ID</th>\n",
       "      <th>Product</th>\n",
       "      <th>Quantity Ordered</th>\n",
       "      <th>Price Each</th>\n",
       "      <th>Order Date</th>\n",
       "      <th>Purchase Address</th>\n",
       "      <th>month</th>\n",
       "      <th>sales</th>\n",
       "    </tr>\n",
       "  </thead>\n",
       "  <tbody>\n",
       "    <tr>\n",
       "      <th>0</th>\n",
       "      <td>176558</td>\n",
       "      <td>USB-C Charging Cable</td>\n",
       "      <td>2</td>\n",
       "      <td>11.95</td>\n",
       "      <td>04/19/19 08:46</td>\n",
       "      <td>917 1st St, Dallas, TX 75001</td>\n",
       "      <td>4</td>\n",
       "      <td>23.90</td>\n",
       "    </tr>\n",
       "    <tr>\n",
       "      <th>2</th>\n",
       "      <td>176559</td>\n",
       "      <td>Bose SoundSport Headphones</td>\n",
       "      <td>1</td>\n",
       "      <td>99.99</td>\n",
       "      <td>04/07/19 22:30</td>\n",
       "      <td>682 Chestnut St, Boston, MA 02215</td>\n",
       "      <td>4</td>\n",
       "      <td>99.99</td>\n",
       "    </tr>\n",
       "    <tr>\n",
       "      <th>3</th>\n",
       "      <td>176560</td>\n",
       "      <td>Google Phone</td>\n",
       "      <td>1</td>\n",
       "      <td>600.00</td>\n",
       "      <td>04/12/19 14:38</td>\n",
       "      <td>669 Spruce St, Los Angeles, CA 90001</td>\n",
       "      <td>4</td>\n",
       "      <td>600.00</td>\n",
       "    </tr>\n",
       "    <tr>\n",
       "      <th>4</th>\n",
       "      <td>176560</td>\n",
       "      <td>Wired Headphones</td>\n",
       "      <td>1</td>\n",
       "      <td>11.99</td>\n",
       "      <td>04/12/19 14:38</td>\n",
       "      <td>669 Spruce St, Los Angeles, CA 90001</td>\n",
       "      <td>4</td>\n",
       "      <td>11.99</td>\n",
       "    </tr>\n",
       "    <tr>\n",
       "      <th>5</th>\n",
       "      <td>176561</td>\n",
       "      <td>Wired Headphones</td>\n",
       "      <td>1</td>\n",
       "      <td>11.99</td>\n",
       "      <td>04/30/19 09:27</td>\n",
       "      <td>333 8th St, Los Angeles, CA 90001</td>\n",
       "      <td>4</td>\n",
       "      <td>11.99</td>\n",
       "    </tr>\n",
       "  </tbody>\n",
       "</table>\n",
       "</div>"
      ],
      "text/plain": [
       "  Order ID                     Product  Quantity Ordered  Price Each  \\\n",
       "0   176558        USB-C Charging Cable                 2       11.95   \n",
       "2   176559  Bose SoundSport Headphones                 1       99.99   \n",
       "3   176560                Google Phone                 1      600.00   \n",
       "4   176560            Wired Headphones                 1       11.99   \n",
       "5   176561            Wired Headphones                 1       11.99   \n",
       "\n",
       "       Order Date                      Purchase Address  month   sales  \n",
       "0  04/19/19 08:46          917 1st St, Dallas, TX 75001      4   23.90  \n",
       "2  04/07/19 22:30     682 Chestnut St, Boston, MA 02215      4   99.99  \n",
       "3  04/12/19 14:38  669 Spruce St, Los Angeles, CA 90001      4  600.00  \n",
       "4  04/12/19 14:38  669 Spruce St, Los Angeles, CA 90001      4   11.99  \n",
       "5  04/30/19 09:27     333 8th St, Los Angeles, CA 90001      4   11.99  "
      ]
     },
     "execution_count": 6,
     "metadata": {},
     "output_type": "execute_result"
    }
   ],
   "source": [
    "all_data.head()"
   ]
  },
  {
   "cell_type": "markdown",
   "id": "c29775ce-c490-48ec-b79c-f1e00bdfc275",
   "metadata": {},
   "source": [
    "### Data Cleaning "
   ]
  },
  {
   "cell_type": "code",
   "execution_count": 7,
   "id": "fcf8fd4d-240e-42d6-a613-dbe920494d5d",
   "metadata": {},
   "outputs": [],
   "source": [
    "all_data.dropna(how='any', inplace= True)\n",
    "all_data['month']= all_data['Order Date'].str[0:2]\n",
    "all_data=all_data[all_data['month'].str[0:2]!='Or']\n",
    "all_data['month']= all_data['month'].astype(int)\n",
    "all_data['Quantity Ordered']= all_data['Quantity Ordered'].astype(int)\n",
    "all_data['Price Each']= all_data['Price Each'].astype(float)\n"
   ]
  },
  {
   "cell_type": "markdown",
   "id": "b83e7f49-041c-4115-b752-2bc812417568",
   "metadata": {},
   "source": [
    "### Q1: What is the best month for sales? How much was earned that month ?"
   ]
  },
  {
   "cell_type": "code",
   "execution_count": null,
   "id": "d7ba9f4e-1b25-485d-b92f-77c1a2dfa346",
   "metadata": {},
   "outputs": [],
   "source": []
  },
  {
   "cell_type": "code",
   "execution_count": 5,
   "id": "efe68057-c8f4-48c6-b2fd-cbcbcd65015b",
   "metadata": {},
   "outputs": [
    {
     "name": "stdout",
     "output_type": "stream",
     "text": [
      "    month       sales\n",
      "0       1  1822256.73\n",
      "1       2  2202022.42\n",
      "2       3  2807100.38\n",
      "3       4  3390670.24\n",
      "4       5  3152606.75\n",
      "5       6  2577802.26\n",
      "6       7  2647775.76\n",
      "7       8  2244467.88\n",
      "8       9  2097560.13\n",
      "9      10  3736726.88\n",
      "10     11  3199603.20\n",
      "11     12  4613443.34\n"
     ]
    }
   ],
   "source": [
    "all_data['sales']= all_data['Quantity Ordered']* all_data['Price Each']\n",
    "all_data.head()\n",
    "max_sales=all_data.groupby('month')['sales'].sum().reset_index()\n",
    "print(max_sales)"
   ]
  },
  {
   "cell_type": "code",
   "execution_count": 8,
   "id": "667af3c3-ebe5-4329-9c01-6292353777b5",
   "metadata": {},
   "outputs": [
    {
     "data": {
      "image/png": "[encoded data removed]",
      "text/plain": [
       "<Figure size 640x480 with 1 Axes>"
      ]
     },
     "metadata": {},
     "output_type": "display_data"
    }
   ],
   "source": [
    "months= range(1,13)\n",
    "plt.bar(months,max_sales['sales'] )\n",
    "plt.xticks(months)\n",
    "plt.ylabel('Sales in INR ')\n",
    "plt.xlabel('Month Number ')\n",
    "plt.show()"
   ]
  },
  {
   "cell_type": "markdown",
   "id": "2c734e79-946c-4b65-b3fe-a1331b9a85b3",
   "metadata": {},
   "source": [
    "### Which city has the maximum sales ?"
   ]
  },
  {
   "cell_type": "code",
   "execution_count": 9,
   "id": "bcefd535-7d2c-45c5-a782-66d898ad6421",
   "metadata": {},
   "outputs": [
    {
     "data": {
      "text/html": [
       "<div>\n",
       "<style scoped>\n",
       "    .dataframe tbody tr th:only-of-type {\n",
       "        vertical-align: middle;\n",
       "    }\n",
       "\n",
       "    .dataframe tbody tr th {\n",
       "        vertical-align: top;\n",
       "    }\n",
       "\n",
       "    .dataframe thead th {\n",
       "        text-align: right;\n",
       "    }\n",
       "</style>\n",
       "<table border=\"1\" class=\"dataframe\">\n",
       "  <thead>\n",
       "    <tr style=\"text-align: right;\">\n",
       "      <th></th>\n",
       "      <th>City</th>\n",
       "      <th>sales</th>\n",
       "    </tr>\n",
       "  </thead>\n",
       "  <tbody>\n",
       "    <tr>\n",
       "      <th>7</th>\n",
       "      <td>San Francisco</td>\n",
       "      <td>8262203.91</td>\n",
       "    </tr>\n",
       "    <tr>\n",
       "      <th>4</th>\n",
       "      <td>Los Angeles</td>\n",
       "      <td>5452570.80</td>\n",
       "    </tr>\n",
       "    <tr>\n",
       "      <th>5</th>\n",
       "      <td>New York City</td>\n",
       "      <td>4664317.43</td>\n",
       "    </tr>\n",
       "    <tr>\n",
       "      <th>2</th>\n",
       "      <td>Boston</td>\n",
       "      <td>3661642.01</td>\n",
       "    </tr>\n",
       "    <tr>\n",
       "      <th>0</th>\n",
       "      <td>Atlanta</td>\n",
       "      <td>2795498.58</td>\n",
       "    </tr>\n",
       "  </tbody>\n",
       "</table>\n",
       "</div>"
      ],
      "text/plain": [
       "             City       sales\n",
       "7   San Francisco  8262203.91\n",
       "4     Los Angeles  5452570.80\n",
       "5   New York City  4664317.43\n",
       "2          Boston  3661642.01\n",
       "0         Atlanta  2795498.58"
      ]
     },
     "execution_count": 9,
     "metadata": {},
     "output_type": "execute_result"
    }
   ],
   "source": [
    "all_data['City']= all_data['Purchase Address'].apply(lambda x: x.split(',')[1])\n",
    "city_wise= all_data.groupby('City')['sales'].sum().reset_index()\n",
    "city_wise= city_wise.sort_values ('sales', ascending=False)\n",
    "city_wise.head()"
   ]
  },
  {
   "cell_type": "code",
   "execution_count": 10,
   "id": "47ad90eb-a0c6-4a9d-a9c5-8357f93bcf10",
   "metadata": {},
   "outputs": [
    {
     "data": {
      "image/png": "[encoded data removed]",
      "text/plain": [
       "<Figure size 640x480 with 1 Axes>"
      ]
     },
     "metadata": {},
     "output_type": "display_data"
    }
   ],
   "source": [
    "Cities= [city for city , df in all_data.groupby('City')]\n",
    "plt.bar(Cities,city_wise['sales'] )\n",
    "plt.xticks(Cities, rotation= 'vertical', size= 8)\n",
    "        \n",
    "plt.ylabel('Sales in INR ')\n",
    "plt.xlabel('City ')\n",
    "plt.show()"
   ]
  },
  {
   "cell_type": "markdown",
   "id": "2699f643-3f44-4cb0-9078-7dd98e9990d6",
   "metadata": {},
   "source": [
    "### What time should we display the advertisemnets to maximize likelihoods of customer's buying products? "
   ]
  },
  {
   "cell_type": "code",
   "execution_count": null,
   "id": "d96e5198-11d1-41fd-9eeb-0dc151d34cb7",
   "metadata": {},
   "outputs": [],
   "source": [
    "all_data['Order Date']=pd.to_datetime(all_data['Order Date'])\n",
    "all_data['Hours']= all_data['Order Date'].dt.hour\n",
    "all_data['Minute']= all_data['Order Date'].dt.minute\n",
    "\n",
    "hours=[hour for hour, df in all_data.groupby('Hours')]\n",
    "plt.plot(hours, all_data.groupby('Hours').count())\n",
    "plt.xticks(hours)\n",
    "plt.grid()\n",
    "plt.show()"
   ]
  },
  {
   "cell_type": "markdown",
   "id": "d6bb61f2-b1a6-4af4-a702-f6a88c896dc0",
   "metadata": {},
   "source": [
    "### What products are most often sold together ?"
   ]
  },
  {
   "cell_type": "code",
   "execution_count": 26,
   "id": "8ccd11cb-6662-49be-8279-7e3e0faa38d7",
   "metadata": {},
   "outputs": [
    {
     "name": "stderr",
     "output_type": "stream",
     "text": [
      "C:\\Users\\admin\\AppData\\Local\\Temp\\ipykernel_3184\\2713339817.py:2: SettingWithCopyWarning: \n",
      "A value is trying to be set on a copy of a slice from a DataFrame.\n",
      "Try using .loc[row_indexer,col_indexer] = value instead\n",
      "\n",
      "See the caveats in the documentation: https://pandas.pydata.org/pandas-docs/stable/user_guide/indexing.html#returning-a-view-versus-a-copy\n",
      "  df['Grouped']= df.groupby('Order ID')['Product'].transform(lambda x: ','.join(x))\n",
      "C:\\Users\\admin\\AppData\\Local\\Temp\\ipykernel_3184\\2713339817.py:3: SettingWithCopyWarning: \n",
      "A value is trying to be set on a copy of a slice from a DataFrame\n",
      "\n",
      "See the caveats in the documentation: https://pandas.pydata.org/pandas-docs/stable/user_guide/indexing.html#returning-a-view-versus-a-copy\n",
      "  df.drop_duplicates(subset='Order ID', inplace=True)\n"
     ]
    },
    {
     "data": {
      "text/html": [
       "<div>\n",
       "<style scoped>\n",
       "    .dataframe tbody tr th:only-of-type {\n",
       "        vertical-align: middle;\n",
       "    }\n",
       "\n",
       "    .dataframe tbody tr th {\n",
       "        vertical-align: top;\n",
       "    }\n",
       "\n",
       "    .dataframe thead th {\n",
       "        text-align: right;\n",
       "    }\n",
       "</style>\n",
       "<table border=\"1\" class=\"dataframe\">\n",
       "  <thead>\n",
       "    <tr style=\"text-align: right;\">\n",
       "      <th></th>\n",
       "      <th>Order ID</th>\n",
       "      <th>Product</th>\n",
       "      <th>Quantity Ordered</th>\n",
       "      <th>Price Each</th>\n",
       "      <th>Order Date</th>\n",
       "      <th>Purchase Address</th>\n",
       "      <th>month</th>\n",
       "      <th>sales</th>\n",
       "      <th>City</th>\n",
       "      <th>Hours</th>\n",
       "      <th>Minute</th>\n",
       "      <th>Grouped</th>\n",
       "    </tr>\n",
       "  </thead>\n",
       "  <tbody>\n",
       "    <tr>\n",
       "      <th>3</th>\n",
       "      <td>176560</td>\n",
       "      <td>Google Phone</td>\n",
       "      <td>1</td>\n",
       "      <td>600.00</td>\n",
       "      <td>2019-04-12 14:38:00</td>\n",
       "      <td>669 Spruce St, Los Angeles, CA 90001</td>\n",
       "      <td>4</td>\n",
       "      <td>600.00</td>\n",
       "      <td>Los Angeles</td>\n",
       "      <td>14</td>\n",
       "      <td>38</td>\n",
       "      <td>Google Phone,Wired Headphones</td>\n",
       "    </tr>\n",
       "    <tr>\n",
       "      <th>18</th>\n",
       "      <td>176574</td>\n",
       "      <td>Google Phone</td>\n",
       "      <td>1</td>\n",
       "      <td>600.00</td>\n",
       "      <td>2019-04-03 19:42:00</td>\n",
       "      <td>20 Hill St, Los Angeles, CA 90001</td>\n",
       "      <td>4</td>\n",
       "      <td>600.00</td>\n",
       "      <td>Los Angeles</td>\n",
       "      <td>19</td>\n",
       "      <td>42</td>\n",
       "      <td>Google Phone,USB-C Charging Cable</td>\n",
       "    </tr>\n",
       "    <tr>\n",
       "      <th>30</th>\n",
       "      <td>176585</td>\n",
       "      <td>Bose SoundSport Headphones</td>\n",
       "      <td>1</td>\n",
       "      <td>99.99</td>\n",
       "      <td>2019-04-07 11:31:00</td>\n",
       "      <td>823 Highland St, Boston, MA 02215</td>\n",
       "      <td>4</td>\n",
       "      <td>99.99</td>\n",
       "      <td>Boston</td>\n",
       "      <td>11</td>\n",
       "      <td>31</td>\n",
       "      <td>Bose SoundSport Headphones,Bose SoundSport Hea...</td>\n",
       "    </tr>\n",
       "    <tr>\n",
       "      <th>32</th>\n",
       "      <td>176586</td>\n",
       "      <td>AAA Batteries (4-pack)</td>\n",
       "      <td>2</td>\n",
       "      <td>2.99</td>\n",
       "      <td>2019-04-10 17:00:00</td>\n",
       "      <td>365 Center St, San Francisco, CA 94016</td>\n",
       "      <td>4</td>\n",
       "      <td>5.98</td>\n",
       "      <td>San Francisco</td>\n",
       "      <td>17</td>\n",
       "      <td>0</td>\n",
       "      <td>AAA Batteries (4-pack),Google Phone</td>\n",
       "    </tr>\n",
       "    <tr>\n",
       "      <th>119</th>\n",
       "      <td>176672</td>\n",
       "      <td>Lightning Charging Cable</td>\n",
       "      <td>1</td>\n",
       "      <td>14.95</td>\n",
       "      <td>2019-04-12 11:07:00</td>\n",
       "      <td>778 Maple St, New York City, NY 10001</td>\n",
       "      <td>4</td>\n",
       "      <td>14.95</td>\n",
       "      <td>New York City</td>\n",
       "      <td>11</td>\n",
       "      <td>7</td>\n",
       "      <td>Lightning Charging Cable,USB-C Charging Cable</td>\n",
       "    </tr>\n",
       "  </tbody>\n",
       "</table>\n",
       "</div>"
      ],
      "text/plain": [
       "    Order ID                     Product  Quantity Ordered  Price Each  \\\n",
       "3     176560                Google Phone                 1      600.00   \n",
       "18    176574                Google Phone                 1      600.00   \n",
       "30    176585  Bose SoundSport Headphones                 1       99.99   \n",
       "32    176586      AAA Batteries (4-pack)                 2        2.99   \n",
       "119   176672    Lightning Charging Cable                 1       14.95   \n",
       "\n",
       "             Order Date                        Purchase Address  month  \\\n",
       "3   2019-04-12 14:38:00    669 Spruce St, Los Angeles, CA 90001      4   \n",
       "18  2019-04-03 19:42:00       20 Hill St, Los Angeles, CA 90001      4   \n",
       "30  2019-04-07 11:31:00       823 Highland St, Boston, MA 02215      4   \n",
       "32  2019-04-10 17:00:00  365 Center St, San Francisco, CA 94016      4   \n",
       "119 2019-04-12 11:07:00   778 Maple St, New York City, NY 10001      4   \n",
       "\n",
       "      sales            City  Hours  Minute  \\\n",
       "3    600.00     Los Angeles     14      38   \n",
       "18   600.00     Los Angeles     19      42   \n",
       "30    99.99          Boston     11      31   \n",
       "32     5.98   San Francisco     17       0   \n",
       "119   14.95   New York City     11       7   \n",
       "\n",
       "                                               Grouped  \n",
       "3                        Google Phone,Wired Headphones  \n",
       "18                   Google Phone,USB-C Charging Cable  \n",
       "30   Bose SoundSport Headphones,Bose SoundSport Hea...  \n",
       "32                 AAA Batteries (4-pack),Google Phone  \n",
       "119      Lightning Charging Cable,USB-C Charging Cable  "
      ]
     },
     "execution_count": 26,
     "metadata": {},
     "output_type": "execute_result"
    }
   ],
   "source": [
    "df= all_data[all_data['Order ID'].duplicated(keep=False)]\n",
    "df['Grouped']= df.groupby('Order ID')['Product'].transform(lambda x: ','.join(x))\n",
    "df.drop_duplicates(subset='Order ID', inplace=True)\n",
    "df.head()"
   ]
  },
  {
   "cell_type": "code",
   "execution_count": 19,
   "id": "bb739b46-944a-4b54-a418-e73a8ae304c2",
   "metadata": {},
   "outputs": [
    {
     "data": {
      "text/plain": [
       "Grouped\n",
       "iPhone,Lightning Charging Cable                                          882\n",
       "Google Phone,USB-C Charging Cable                                        856\n",
       "iPhone,Wired Headphones                                                  361\n",
       "Vareebadd Phone,USB-C Charging Cable                                     312\n",
       "Google Phone,Wired Headphones                                            303\n",
       "                                                                        ... \n",
       "iPhone,Lightning Charging Cable,Wired Headphones,USB-C Charging Cable      1\n",
       "Vareebadd Phone,27in FHD Monitor                                           1\n",
       "LG Dryer,Lightning Charging Cable                                          1\n",
       "ThinkPad Laptop,LG Dryer                                                   1\n",
       "LG Washing Machine,AA Batteries (4-pack)                                   1\n",
       "Name: count, Length: 366, dtype: int64"
      ]
     },
     "execution_count": 19,
     "metadata": {},
     "output_type": "execute_result"
    }
   ],
   "source": [
    "df['Grouped'].value_counts()"
   ]
  },
  {
   "cell_type": "markdown",
   "id": "c1a59de4-7548-4dd7-a660-b5e65570541b",
   "metadata": {},
   "source": [
    "### What product sold the most? Why do you think it sold the most ?"
   ]
  },
  {
   "cell_type": "code",
   "execution_count": 40,
   "id": "da591b02-2880-4824-b0f3-16d9220b77b3",
   "metadata": {},
   "outputs": [
    {
     "data": {
      "text/html": [
       "<div>\n",
       "<style scoped>\n",
       "    .dataframe tbody tr th:only-of-type {\n",
       "        vertical-align: middle;\n",
       "    }\n",
       "\n",
       "    .dataframe tbody tr th {\n",
       "        vertical-align: top;\n",
       "    }\n",
       "\n",
       "    .dataframe thead th {\n",
       "        text-align: right;\n",
       "    }\n",
       "</style>\n",
       "<table border=\"1\" class=\"dataframe\">\n",
       "  <thead>\n",
       "    <tr style=\"text-align: right;\">\n",
       "      <th></th>\n",
       "      <th>Product</th>\n",
       "      <th>Total Quantity</th>\n",
       "    </tr>\n",
       "  </thead>\n",
       "  <tbody>\n",
       "    <tr>\n",
       "      <th>5</th>\n",
       "      <td>AAA Batteries (4-pack)</td>\n",
       "      <td>31017</td>\n",
       "    </tr>\n",
       "    <tr>\n",
       "      <th>4</th>\n",
       "      <td>AA Batteries (4-pack)</td>\n",
       "      <td>27635</td>\n",
       "    </tr>\n",
       "    <tr>\n",
       "      <th>15</th>\n",
       "      <td>USB-C Charging Cable</td>\n",
       "      <td>23975</td>\n",
       "    </tr>\n",
       "    <tr>\n",
       "      <th>12</th>\n",
       "      <td>Lightning Charging Cable</td>\n",
       "      <td>23217</td>\n",
       "    </tr>\n",
       "    <tr>\n",
       "      <th>17</th>\n",
       "      <td>Wired Headphones</td>\n",
       "      <td>20557</td>\n",
       "    </tr>\n",
       "  </tbody>\n",
       "</table>\n",
       "</div>"
      ],
      "text/plain": [
       "                     Product  Total Quantity\n",
       "5     AAA Batteries (4-pack)           31017\n",
       "4      AA Batteries (4-pack)           27635\n",
       "15      USB-C Charging Cable           23975\n",
       "12  Lightning Charging Cable           23217\n",
       "17          Wired Headphones           20557"
      ]
     },
     "execution_count": 40,
     "metadata": {},
     "output_type": "execute_result"
    }
   ],
   "source": [
    "df1= all_data.groupby('Product')['Quantity Ordered'].sum().reset_index(name='Total Quantity')\n",
    "df1.sort_values(by='Total Quantity', ascending=False, inplace=True)\n",
    "df1.head()"
   ]
  },
  {
   "cell_type": "code",
   "execution_count": null,
   "id": "678a3f0a-2ee1-47db-9105-18a70c68d5c0",
   "metadata": {},
   "outputs": [],
   "source": []
  },
  {
   "cell_type": "code",
   "execution_count": null,
   "id": "2cb8290e-ca56-4145-8052-7f0e51c65881",
   "metadata": {},
   "outputs": [],
   "source": []
  },
  {
   "cell_type": "code",
   "execution_count": null,
   "id": "472fbadc-6f08-46e1-9935-58eae3b7d865",
   "metadata": {},
   "outputs": [],
   "source": []
  },
  {
   "cell_type": "code",
   "execution_count": null,
   "id": "5b9772fc-8502-467a-927c-447d3e90db6a",
   "metadata": {},
   "outputs": [],
   "source": []
  },
  {
   "cell_type": "code",
   "execution_count": null,
   "id": "615a5f07-e147-4940-a436-463e5633aafc",
   "metadata": {},
   "outputs": [],
   "source": []
  },
  {
   "cell_type": "code",
   "execution_count": null,
   "id": "2d0c4e4f-440f-4b92-9b43-7efaf9d16327",
   "metadata": {},
   "outputs": [],
   "source": []
  }
 ],
 "metadata": {
  "kernelspec": {
   "display_name": "Python 3 (ipykernel)",
   "language": "python",
   "name": "python3"
  },
  "language_info": {
   "codemirror_mode": {
    "name": "ipython",
    "version": 3
   },
   "file_extension": ".py",
   "mimetype": "text/x-python",
   "name": "python",
   "nbconvert_exporter": "python",
   "pygments_lexer": "ipython3",
   "version": "3.12.4"
  }
 },
 "nbformat": 4,
 "nbformat_minor": 5
}
